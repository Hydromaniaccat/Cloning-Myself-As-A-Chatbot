{
 "cells": [
  {
   "cell_type": "code",
   "execution_count": 23,
   "metadata": {},
   "outputs": [],
   "source": [
    "import re\n",
    "import string\n",
    "from html import unescape"
   ]
  },
  {
   "cell_type": "markdown",
   "metadata": {},
   "source": [
    "# Future Plan:\n",
    "- Create a data processing pipeline"
   ]
  },
  {
   "cell_type": "markdown",
   "metadata": {},
   "source": [
    "# Preprocess\n",
    "and do some sloppy preprocessing because it's faster than remembering how to use xml parsers."
   ]
  },
  {
   "cell_type": "code",
   "execution_count": null,
   "metadata": {},
   "outputs": [],
   "source": [
    "f = open('discord_alen.html', 'r', encoding=\"utf8\")\n",
    "text = f.read().split('\\n')\n",
    "\n",
    "no_empty_text_no_divs = [x for x in text if not 'chatlog__timestamp' in x and not 'chatlog__author-avatar' in x and not '<div' in x and not '</div' in x and x != '']"
   ]
  },
  {
   "cell_type": "code",
   "execution_count": null,
   "metadata": {},
   "outputs": [],
   "source": [
    "my_messages = []\n",
    "me = \"BrainSquid#1538\"\n",
    "friend = \"alen#8819\"\n",
    "for row in no_empty_text_no_divs:\n",
    "    if '<span class=\"markdown\">' in row and record_row:\n",
    "        if not 'href=' in row and len(row.split()) > 3:\n",
    "            my_messages.append(person + \": <|startoftext|> \" + row.split('<span class=\"markdown\">')[1].split('</span>')[0] + ' <|endoftext|>')\n",
    "        record_row = True\n",
    "    else:\n",
    "        record_row = False\n",
    "    if me in row:\n",
    "        person = me\n",
    "        record_row = True\n",
    "    elif friend in row:\n",
    "        person = friend\n",
    "        record_row = True\n",
    "        \n",
    "final_messages = [unescape(x) for x in my_messages]\n",
    "final_messages = [x for x in final_messages if not '<img class=\"emoji' in x]\n",
    "\n",
    "with open('discord_logs.txt', 'w') as f:\n",
    "    f.write('\\n'.join([x.encode('ascii',errors='ignore').decode() for x in final_messages]))"
   ]
  },
  {
   "cell_type": "markdown",
   "metadata": {},
   "source": [
    "# Preprocess into single person data"
   ]
  },
  {
   "cell_type": "code",
   "execution_count": 8,
   "metadata": {},
   "outputs": [],
   "source": [
    "f = open('discord_logs.txt', 'r')\n",
    "text = f.read()\n",
    "f.close()"
   ]
  },
  {
   "cell_type": "code",
   "execution_count": 7,
   "metadata": {},
   "outputs": [],
   "source": [
    "f = open('discord_logs_no_start_token.txt', 'w')\n",
    "f.write(text.replace('<|startoftext|> ', ''))\n",
    "f.close()"
   ]
  },
  {
   "cell_type": "code",
   "execution_count": 11,
   "metadata": {},
   "outputs": [],
   "source": [
    "new_text = []\n",
    "for x in text.split('\\n'):\n",
    "    name, message = x.split(' <|startoftext|> ')\n",
    "    name = '<|' + name + '|>'\n",
    "    new_text.append(' '.join([name, message]))\n",
    "new_text = '\\n'.join(new_text)\n",
    "\n",
    "f = open('discord_logs_short_token.txt', 'w')\n",
    "f.write(new_text)\n",
    "f.close()"
   ]
  },
  {
   "cell_type": "markdown",
   "metadata": {},
   "source": [
    "# Only load my logs"
   ]
  },
  {
   "cell_type": "code",
   "execution_count": null,
   "metadata": {},
   "outputs": [],
   "source": [
    "[x for x in new_text.split('\\n')]"
   ]
  },
  {
   "cell_type": "code",
   "execution_count": 1,
   "metadata": {},
   "outputs": [],
   "source": [
    "f = open('discord_logs_short_token.txt', 'r')\n",
    "text = f.read()\n",
    "f.close()"
   ]
  },
  {
   "cell_type": "code",
   "execution_count": 3,
   "metadata": {},
   "outputs": [],
   "source": [
    "new_text = [x for x in text.split('\\n') if '<|BrainSquid#1538:|>' in x]"
   ]
  },
  {
   "cell_type": "code",
   "execution_count": 5,
   "metadata": {},
   "outputs": [],
   "source": [
    "f = open('discord_logs_only_me.txt', 'w')\n",
    "f.write('\\n'.join(new_text))\n",
    "f.close()"
   ]
  },
  {
   "cell_type": "markdown",
   "metadata": {},
   "source": [
    "# Remove other people"
   ]
  },
  {
   "cell_type": "code",
   "execution_count": 6,
   "metadata": {},
   "outputs": [],
   "source": [
    "f = open('discord_logs_short_token.txt', 'r')\n",
    "text = f.read()\n",
    "f.close()"
   ]
  },
  {
   "cell_type": "code",
   "execution_count": 8,
   "metadata": {},
   "outputs": [],
   "source": [
    "new_text = text.replace('<|alen#8819:|> ', '')"
   ]
  },
  {
   "cell_type": "code",
   "execution_count": 9,
   "metadata": {},
   "outputs": [],
   "source": [
    "f = open('discord_logs_just_my_tokens.txt', 'w')\n",
    "f.write(new_text)\n",
    "f.close()"
   ]
  },
  {
   "cell_type": "markdown",
   "metadata": {},
   "source": [
    "# Same thing for Alen"
   ]
  },
  {
   "cell_type": "code",
   "execution_count": 10,
   "metadata": {},
   "outputs": [],
   "source": [
    "f = open('discord_logs_short_token.txt', 'r')\n",
    "text = f.read()\n",
    "f.close()"
   ]
  },
  {
   "cell_type": "code",
   "execution_count": 11,
   "metadata": {},
   "outputs": [],
   "source": [
    "new_text = text.replace('<|BrainSquid#1538:|> ', '')"
   ]
  },
  {
   "cell_type": "code",
   "execution_count": 12,
   "metadata": {},
   "outputs": [],
   "source": [
    "f = open('discord_logs_just_alen_tokens.txt', 'w')\n",
    "f.write(new_text)\n",
    "f.close()"
   ]
  },
  {
   "cell_type": "markdown",
   "metadata": {},
   "source": [
    "# Process another log"
   ]
  },
  {
   "cell_type": "code",
   "execution_count": 93,
   "metadata": {},
   "outputs": [],
   "source": [
    "f = open('../data/discord_batman.html', 'r', encoding=\"utf8\")\n",
    "text = f.read().split('\\n')\n",
    "\n",
    "no_empty_text_no_divs = [x for x in text if not 'chatlog__timestamp' in x and not 'chatlog__author-avatar' in x and not '<div' in x and not '</div' in x and x != '']"
   ]
  },
  {
   "cell_type": "code",
   "execution_count": 94,
   "metadata": {},
   "outputs": [],
   "source": [
    "my_messages = []\n",
    "me = \"BrainSquid#1538\"\n",
    "friend = \"batmanasb#5618\"\n",
    "for row in no_empty_text_no_divs:\n",
    "    if '<span class=\"markdown\">' in row and record_row:\n",
    "        if not 'href=' in row and len(row.split()) > 3:\n",
    "            my_messages.append(person + \": <|startoftext|> \" + row.split('<span class=\"markdown\">')[1].split('</span>')[0] + ' <|endoftext|>')\n",
    "        record_row = True\n",
    "    else:\n",
    "        record_row = False\n",
    "    if me in row:\n",
    "        person = me\n",
    "        record_row = True\n",
    "    elif friend in row:\n",
    "        person = friend\n",
    "        record_row = True\n",
    "        \n",
    "final_messages = [unescape(x) for x in my_messages]\n",
    "final_messages = [x for x in final_messages if not '<img class=\"emoji' in x]"
   ]
  },
  {
   "cell_type": "code",
   "execution_count": 95,
   "metadata": {},
   "outputs": [],
   "source": [
    "with open('../data/discord_batman_logs.txt', 'w') as f:\n",
    "    f.write('\\n'.join([x.encode('ascii',errors='ignore').decode() for x in final_messages]))"
   ]
  },
  {
   "cell_type": "code",
   "execution_count": 96,
   "metadata": {},
   "outputs": [],
   "source": [
    "f = open('../data/discord_batman_logs.txt','r')\n",
    "text = f.read()\n",
    "f.close()"
   ]
  },
  {
   "cell_type": "code",
   "execution_count": 97,
   "metadata": {},
   "outputs": [],
   "source": [
    "current_person = None\n",
    "merged_text = []\n",
    "merged_row = \"\"\n",
    "for row in text.split('\\n'):\n",
    "    person = row.split()[0].split('#')[0]\n",
    "    message = row.split('<|startoftext|> ')[-1].split(' <|endoftext|>')[0].strip()\n",
    "    \n",
    "    # make sure each message has punctuation before merging.\n",
    "    if not message[-1] in string.punctuation:\n",
    "        message += '.'\n",
    "    \n",
    "    if len(message) < 2:\n",
    "        continue\n",
    "    \n",
    "    if person == current_person:\n",
    "        merged_row += ' ' + message\n",
    "    else:\n",
    "        if current_person:\n",
    "            if not merged_row[-1] in string.punctuation:\n",
    "                merged_row += '.'\n",
    "            merged_text.append(('<|' + person + '|> ' + merged_row + ' <|endoftext|>').replace('Started a call. ',''))\n",
    "        merged_row = message\n",
    "    \n",
    "    current_person = person"
   ]
  },
  {
   "cell_type": "code",
   "execution_count": 98,
   "metadata": {},
   "outputs": [],
   "source": [
    "with open('../data/discord_batman_reformatted.txt', 'w') as f:\n",
    "    f.write('\\n'.join(merged_text))"
   ]
  },
  {
   "cell_type": "markdown",
   "metadata": {},
   "source": [
    "# Reprocess Alen logs"
   ]
  },
  {
   "cell_type": "code",
   "execution_count": 99,
   "metadata": {},
   "outputs": [],
   "source": [
    "f = open('../data/discord_alen.html', 'r', encoding=\"utf8\")\n",
    "text = f.read().split('\\n')\n",
    "\n",
    "no_empty_text_no_divs = [x for x in text if not 'chatlog__timestamp' in x and not 'chatlog__author-avatar' in x and not '<div' in x and not '</div' in x and x != '']"
   ]
  },
  {
   "cell_type": "code",
   "execution_count": 100,
   "metadata": {},
   "outputs": [],
   "source": [
    "my_messages = []\n",
    "me = \"BrainSquid#1538\"\n",
    "friend = \"alen#8819\"\n",
    "for row in no_empty_text_no_divs:\n",
    "    if '<span class=\"markdown\">' in row and record_row:\n",
    "        if not 'href=' in row and len(row.split()) > 3:\n",
    "            my_messages.append(person + \": <|startoftext|> \" + row.split('<span class=\"markdown\">')[1].split('</span>')[0] + ' <|endoftext|>')\n",
    "        record_row = True\n",
    "    else:\n",
    "        record_row = False\n",
    "    if me in row:\n",
    "        person = me\n",
    "        record_row = True\n",
    "    elif friend in row:\n",
    "        person = friend\n",
    "        record_row = True\n",
    "        \n",
    "final_messages = [unescape(x) for x in my_messages]\n",
    "final_messages = [x for x in final_messages if not '<img class=\"emoji' in x]"
   ]
  },
  {
   "cell_type": "code",
   "execution_count": 101,
   "metadata": {},
   "outputs": [],
   "source": [
    "with open('../data/discord_alen_logs.txt', 'w') as f:\n",
    "    f.write('\\n'.join([x.encode('ascii',errors='ignore').decode() for x in final_messages]))"
   ]
  },
  {
   "cell_type": "code",
   "execution_count": 102,
   "metadata": {},
   "outputs": [],
   "source": [
    "f = open('../data/discord_alen_logs.txt','r')\n",
    "text = f.read()\n",
    "f.close()"
   ]
  },
  {
   "cell_type": "code",
   "execution_count": 103,
   "metadata": {},
   "outputs": [],
   "source": [
    "current_person = None\n",
    "merged_text = []\n",
    "merged_row = \"\"\n",
    "for row in text.split('\\n'):\n",
    "    person = row.split()[0].split('#')[0]\n",
    "    message = row.split('<|startoftext|> ')[-1].split(' <|endoftext|>')[0].strip()\n",
    "    \n",
    "    if len(message) < 2:\n",
    "        continue\n",
    "    \n",
    "    if person == current_person:\n",
    "        merged_row += ' ' + message\n",
    "    else:\n",
    "        if current_person:\n",
    "            if not merged_row[-1] in string.punctuation:\n",
    "                merged_row += '.'\n",
    "            merged_text.append(('<|' + person + '|> ' + merged_row + ' <|endoftext|>').replace('Started a call. ',''))\n",
    "        merged_row = message\n",
    "    \n",
    "    current_person = person"
   ]
  },
  {
   "cell_type": "code",
   "execution_count": 104,
   "metadata": {},
   "outputs": [],
   "source": [
    "with open('../data/discord_alen_reformatted.txt', 'w') as f:\n",
    "    f.write('\\n'.join(merged_text))"
   ]
  },
  {
   "cell_type": "markdown",
   "metadata": {},
   "source": [
    "# Merge all chatlogs  to train me\n",
    "- NO SHUFFLING. The reason is because there's a sequential order to each of the logs and I can't separate out the individual conversations within each to shuffle those. Therefore I'm just cleaning up and appending both data files. I understand that this will likely add more importance to the latter logs during training."
   ]
  },
  {
   "cell_type": "code",
   "execution_count": 135,
   "metadata": {},
   "outputs": [],
   "source": [
    "f = open('../data/discord_alen_reformatted.txt','r')\n",
    "text_alen = f.read()\n",
    "f.close()"
   ]
  },
  {
   "cell_type": "code",
   "execution_count": 136,
   "metadata": {},
   "outputs": [],
   "source": [
    "f = open('../data/discord_batman_reformatted.txt','r')\n",
    "text_batman = f.read()\n",
    "f.close()"
   ]
  },
  {
   "cell_type": "code",
   "execution_count": 137,
   "metadata": {},
   "outputs": [],
   "source": [
    "text_alen = [x.replace('<|alen|> ','').replace(' <|endoftext|>','') if '<|alen|> ' in x else x for x in text_alen.split('\\n')]"
   ]
  },
  {
   "cell_type": "code",
   "execution_count": 138,
   "metadata": {},
   "outputs": [],
   "source": [
    "text_batman = [x.replace('<|batmanasb|> ','').replace(' <|endoftext|>','') if '<|batmanasb|> ' in x else x for x in text_batman.split('\\n')]"
   ]
  },
  {
   "cell_type": "code",
   "execution_count": 132,
   "metadata": {},
   "outputs": [],
   "source": [
    "merged_text = text_alen\n",
    "merged_text.extend(text_batman)\n",
    "\n",
    "with open('../data/discord_merged_reformatted.txt', 'w') as f:\n",
    "    f.write('\\n'.join(merged_text))"
   ]
  },
  {
   "cell_type": "code",
   "execution_count": 139,
   "metadata": {},
   "outputs": [],
   "source": [
    "# merged_text = text_batman\n",
    "# merged_text.extend(text_alen)\n",
    "\n",
    "# with open('../data/discord_merged_reformatted_reversed.txt', 'w') as f:\n",
    "#     f.write('\\n'.join(merged_text))"
   ]
  },
  {
   "cell_type": "markdown",
   "metadata": {},
   "source": [
    "# Maybe I can try just having my own text without the conversational format."
   ]
  },
  {
   "cell_type": "code",
   "execution_count": 140,
   "metadata": {},
   "outputs": [],
   "source": [
    "f = open('../data/discord_merged_reformatted_reversed.txt','r')\n",
    "text = f.read()\n",
    "f.close()"
   ]
  },
  {
   "cell_type": "code",
   "execution_count": 144,
   "metadata": {},
   "outputs": [],
   "source": [
    "me_text = [x for x in text.split('\\n') if 'BrainSquid' in x]"
   ]
  },
  {
   "cell_type": "code",
   "execution_count": 145,
   "metadata": {},
   "outputs": [],
   "source": [
    "with open('../data/discord_merged_only_me.txt', 'w') as f:\n",
    "    f.write('\\n'.join(me_text))"
   ]
  },
  {
   "cell_type": "code",
   "execution_count": null,
   "metadata": {},
   "outputs": [],
   "source": []
  }
 ],
 "metadata": {
  "kernelspec": {
   "display_name": "Python3 tensorflow==1.5",
   "language": "python",
   "name": "tf15"
  },
  "language_info": {
   "codemirror_mode": {
    "name": "ipython",
    "version": 3
   },
   "file_extension": ".py",
   "mimetype": "text/x-python",
   "name": "python",
   "nbconvert_exporter": "python",
   "pygments_lexer": "ipython3",
   "version": "3.7.7"
  }
 },
 "nbformat": 4,
 "nbformat_minor": 4
}
